{
  "nbformat": 4,
  "nbformat_minor": 0,
  "metadata": {
    "colab": {
      "name": "EulerMethodApproximation.ipynb",
      "provenance": [],
      "collapsed_sections": [],
      "authorship_tag": "ABX9TyN9KN9hK2N8sE3Yvt83TuZ9",
      "include_colab_link": true
    },
    "kernelspec": {
      "name": "python3",
      "display_name": "Python 3"
    },
    "language_info": {
      "name": "python"
    }
  },
  "cells": [
    {
      "cell_type": "markdown",
      "metadata": {
        "id": "view-in-github",
        "colab_type": "text"
      },
      "source": [
        "<a href=\"https://colab.research.google.com/github/AaryaBatchu/mathStuff/blob/main/EulerMethodApproximation.ipynb\" target=\"_parent\"><img src=\"https://colab.research.google.com/assets/colab-badge.svg\" alt=\"Open In Colab\"/></a>"
      ]
    },
    {
      "cell_type": "markdown",
      "source": [
        "Simple program to do the Euler method, improved Euler method (Heun's method), and Runge-Kutta. \n",
        "\n",
        "https://en.wikipedia.org/wiki/Euler_method#Example\n",
        "\n",
        "https://en.wikipedia.org/wiki/Heun%27s_method\n",
        "\n",
        "https://en.wikipedia.org/wiki/Runge%E2%80%93Kutta_methods#The_Runge%E2%80%93Kutta_method"
      ],
      "metadata": {
        "id": "kJu7AK97i67K"
      }
    },
    {
      "cell_type": "markdown",
      "source": [
        "Import math!! (so we can do some math)"
      ],
      "metadata": {
        "id": "O-FoPisdPqOM"
      }
    },
    {
      "cell_type": "code",
      "source": [
        "import math"
      ],
      "metadata": {
        "id": "V5dhU0BOlFYe"
      },
      "execution_count": 141,
      "outputs": []
    },
    {
      "cell_type": "markdown",
      "source": [
        "Define some functions:"
      ],
      "metadata": {
        "id": "cba5yjehidAj"
      }
    },
    {
      "cell_type": "code",
      "source": [
        "# one iteration given the method\n",
        "\n",
        "def iter(x, y, h, method):\n",
        "  if method == \"euler\":\n",
        "    return eulerMethodStep(x, y, h)\n",
        "  elif method == \"improved euler\":\n",
        "    return improvedEulerMethodStep(x, y, h)\n",
        "  elif method == \"runge-kutta\":\n",
        "    return runge_kuttaMethodStep(x, y, h)\n",
        "  else:\n",
        "    print(\"unknown method\")"
      ],
      "metadata": {
        "id": "VvicO9asch1h"
      },
      "execution_count": 142,
      "outputs": []
    },
    {
      "cell_type": "code",
      "source": [
        "# traditional euler method\n",
        "\n",
        "def eulerMethodStep(x, y, h):\n",
        "  return y + h*(f(x, y))"
      ],
      "metadata": {
        "id": "yQgvbvV4h4tU"
      },
      "execution_count": 143,
      "outputs": []
    },
    {
      "cell_type": "code",
      "source": [
        "# improved euler method\n",
        "\n",
        "def improvedEulerMethodStep(x, y, h):\n",
        "  k1 = f(x, y)\n",
        "  k2 = y + h * k1\n",
        "  k3 = k1 + f(x + h, k2)\n",
        "  return y + (h / 2) * k3"
      ],
      "metadata": {
        "id": "EgXtC791b7ED"
      },
      "execution_count": 144,
      "outputs": []
    },
    {
      "cell_type": "code",
      "source": [
        "# runge-kutta method\n",
        "\n",
        "def runge_kuttaMethodStep(x, y, h):\n",
        "  k1 = f(x, y)\n",
        "  k2 = f(x + h/2, y + h*k1/2)\n",
        "  k3 = f(x + h/2, y + h*k2/2)\n",
        "  k4 = f(x + h, y + h*k3)\n",
        "\n",
        "  return y + h / 6 * (k1 + 2 * k2 + 2 * k3 + k4)"
      ],
      "metadata": {
        "id": "8pixfpPXgOsC"
      },
      "execution_count": 145,
      "outputs": []
    },
    {
      "cell_type": "markdown",
      "source": [
        "Define the differential equation"
      ],
      "metadata": {
        "id": "FfEvP3anP1Qj"
      }
    },
    {
      "cell_type": "code",
      "execution_count": 146,
      "metadata": {
        "id": "61oO1amKhDHH"
      },
      "outputs": [],
      "source": [
        "# the diff eq:\n",
        "# dy/dx = e ^ (sin(4x + y))\n",
        "\n",
        "def f(x, y):\n",
        "  dydx = math.pow(math.e, math.sin(4 * x + y))\n",
        "\n",
        "  return dydx"
      ]
    },
    {
      "cell_type": "markdown",
      "source": [
        "Actual iteration:"
      ],
      "metadata": {
        "id": "b-zkasx9-fnR"
      }
    },
    {
      "cell_type": "code",
      "source": [
        "startX, startY = 1.0, 1.0\n",
        "\n",
        "endX = 10.0\n",
        "steps = 10000\n",
        "step = (endX - startX) / steps\n",
        "\n",
        "xPoints = [startX]\n",
        "yPoints = [startY]\n",
        "\n",
        "x, y = startX, startY\n",
        "\n",
        "method = \"euler\"\n",
        "method = \"improved euler\"\n",
        "method = \"runge-kutta\"\n",
        "\n",
        "for i in range(steps + 1):\n",
        "  try:\n",
        "    y, x = iter(x, y, step, method), x + step\n",
        "  except TypeError:\n",
        "    break\n",
        "  xPoints.append(x)\n",
        "  yPoints.append(y)\n",
        "\n",
        "endX, endY = x, y\n",
        "\n",
        "print(\"x_0 = %f \\ny_0 = %f\" % (startX, startY))\n",
        "print(\"x_f = %f \\ny_f = %f\" % (endX, endY))"
      ],
      "metadata": {
        "colab": {
          "base_uri": "https://localhost:8080/"
        },
        "id": "b3omLXqIiMVQ",
        "outputId": "5e3babb7-8f09-4abf-f827-6912724cdf25"
      },
      "execution_count": 147,
      "outputs": [
        {
          "output_type": "stream",
          "name": "stdout",
          "text": [
            "x_0 = 1.000000 \n",
            "y_0 = 1.000000\n",
            "x_f = 10.000900 \n",
            "y_f = 11.233572\n"
          ]
        }
      ]
    },
    {
      "cell_type": "markdown",
      "source": [
        "Let's try plotting it!"
      ],
      "metadata": {
        "id": "b3YTSMGejK2_"
      }
    },
    {
      "cell_type": "code",
      "source": [
        "# import matplot.pyplot to plot stuff\n",
        "\n",
        "import matplotlib.pyplot as plt"
      ],
      "metadata": {
        "id": "qbEJd7dAjKmZ"
      },
      "execution_count": 148,
      "outputs": []
    },
    {
      "cell_type": "code",
      "source": [
        "# ^ if that's not working you might have to do this:\n",
        "\n",
        "!pip3 install matplotlib"
      ],
      "metadata": {
        "colab": {
          "base_uri": "https://localhost:8080/"
        },
        "id": "y3huVm9oUD6B",
        "outputId": "95f20528-44d6-4a2b-9bb9-7f77965c59ae"
      },
      "execution_count": 149,
      "outputs": [
        {
          "output_type": "stream",
          "name": "stdout",
          "text": [
            "Requirement already satisfied: matplotlib in /usr/local/lib/python3.7/dist-packages (3.2.2)\n",
            "Requirement already satisfied: pyparsing!=2.0.4,!=2.1.2,!=2.1.6,>=2.0.1 in /usr/local/lib/python3.7/dist-packages (from matplotlib) (3.0.7)\n",
            "Requirement already satisfied: python-dateutil>=2.1 in /usr/local/lib/python3.7/dist-packages (from matplotlib) (2.8.2)\n",
            "Requirement already satisfied: kiwisolver>=1.0.1 in /usr/local/lib/python3.7/dist-packages (from matplotlib) (1.3.2)\n",
            "Requirement already satisfied: numpy>=1.11 in /usr/local/lib/python3.7/dist-packages (from matplotlib) (1.19.5)\n",
            "Requirement already satisfied: cycler>=0.10 in /usr/local/lib/python3.7/dist-packages (from matplotlib) (0.11.0)\n",
            "Requirement already satisfied: six>=1.5 in /usr/local/lib/python3.7/dist-packages (from python-dateutil>=2.1->matplotlib) (1.15.0)\n",
            "^C\n"
          ]
        }
      ]
    },
    {
      "cell_type": "code",
      "source": [
        "# simply plotting the function\n",
        "\n",
        "fig, ax = plt.subplots()\n",
        "ax.plot(xPoints, yPoints, label='F(x)')\n",
        "\n",
        "ax.set_xlabel('x-axis')\n",
        "ax.set_ylabel('y-axis')\n",
        "ax.set_title('F(x)')\n",
        "\n",
        "ax.axvline(x=startX, c=\"red\", label=\"x_0\")\n",
        "ax.axhline(y=startY, c=\"red\", label=\"y_0\")\n",
        "\n",
        "ax.axvline(x=endX, c=\"green\", label=\"x_f\")\n",
        "ax.axhline(y=endY, c=\"green\", label=\"y_f\")\n",
        "ax.scatter([startX, endX], [startY, endY], c=\"blue\")\n",
        "\n",
        "ax.legend()\n",
        "\n",
        "print(\"x_0 = %f \\ny_0 = %f\" % (startX, startY))\n",
        "print(\"x_f = %f \\ny_f = %f\" % (endX, endY))"
      ],
      "metadata": {
        "colab": {
          "base_uri": "https://localhost:8080/",
          "height": 364
        },
        "id": "bbfowkw8Umkx",
        "outputId": "b4e7e528-06a7-4140-9915-d5d3decc11cf"
      },
      "execution_count": 150,
      "outputs": [
        {
          "output_type": "stream",
          "name": "stdout",
          "text": [
            "x_0 = 1.000000 \n",
            "y_0 = 1.000000\n",
            "x_f = 10.000900 \n",
            "y_f = 11.233572\n"
          ]
        },
        {
          "output_type": "display_data",
          "data": {
            "image/png": "[encoded data removed]",
            "text/plain": [
              "<Figure size 432x288 with 1 Axes>"
            ]
          },
          "metadata": {
            "needs_background": "light"
          }
        }
      ]
    },
    {
      "cell_type": "markdown",
      "source": [
        "Now with a slope field!!"
      ],
      "metadata": {
        "id": "zxbtEjeGiBZP"
      }
    },
    {
      "cell_type": "code",
      "source": [
        "# same as above\n",
        "\n",
        "fig, ax = plt.subplots()\n",
        "ax.plot(xPoints, yPoints, label='F(x)')\n",
        "\n",
        "ax.set_xlabel('x-axis')\n",
        "ax.set_ylabel('y-axis')\n",
        "ax.set_title('F(x)')\n",
        "\n",
        "ax.axvline(x=startX, c=\"red\", label=\"x_0\")\n",
        "ax.axhline(y=startY, c=\"red\", label=\"y_0\")\n",
        "\n",
        "ax.axvline(x=endX, c=\"green\", label=\"x_f\")\n",
        "ax.axhline(y=endY, c=\"green\", label=\"y_f\")\n",
        "ax.scatter([startX, endX], [startY, endY], c=\"blue\")\n",
        "\n",
        "print(\"x_0 = %f \\ny_0 = %f\" % (startX, startY))\n",
        "print(\"x_f = %f \\ny_f = %f\" % (endX, endY))\n",
        "\n",
        "# –––––––––––––––––––––––––––––––––––––––––––––––––––––––––––\n",
        "# stuff for the slope field\n",
        "\n",
        "# my brain wasn't working for a bit so i had to try this out on desmos: \n",
        "# https://www.desmos.com/calculator/mz5o6x7shr\n",
        "\n",
        "sf_stepsX = 10\n",
        "rangeX = endX - startX\n",
        "sf_stepX = rangeX / sf_stepsX\n",
        "\n",
        "minY = yPoints[0]\n",
        "for yCoord in yPoints:\n",
        "  if yCoord < minY:\n",
        "    minY = yCoord\n",
        "maxY = max(yPoints)\n",
        "\n",
        "sf_stepsY = 10\n",
        "rangeY = maxY - minY\n",
        "sf_stepY = rangeY / sf_stepsY\n",
        "\n",
        "l = 0.02\n",
        "\n",
        "for i in range(0, sf_stepsX + 1, 1):\n",
        "  for j in range(0, sf_stepsY + 1, 1):\n",
        "    x, y = startX + (i * sf_stepX), minY + (j * sf_stepY)\n",
        "    m = f(x, y)\n",
        "    if m is None:\n",
        "      continue\n",
        "    n = l / (math.sqrt(1/(endX**2) + (m**2)/(maxY**2)))\n",
        "    line = ([x, x + n], [y, y + m*n])\n",
        "    ax.plot(line[0], line[1], color='blue', linewidth=1)\n",
        "\n",
        "# comment out this line if the legend is covering too much\n",
        "ax.legend()\n"
      ],
      "metadata": {
        "colab": {
          "base_uri": "https://localhost:8080/",
          "height": 382
        },
        "id": "aknwtYO7jhz_",
        "outputId": "6bf5dc86-1e12-4440-c8ac-d2046146b51e"
      },
      "execution_count": 152,
      "outputs": [
        {
          "output_type": "stream",
          "name": "stdout",
          "text": [
            "x_0 = 1.000000 \n",
            "y_0 = 1.000000\n",
            "x_f = 10.000900 \n",
            "y_f = 11.233572\n"
          ]
        },
        {
          "output_type": "execute_result",
          "data": {
            "text/plain": [
              "<matplotlib.legend.Legend at 0x7f80bd86cb90>"
            ]
          },
          "metadata": {},
          "execution_count": 152
        },
        {
          "output_type": "display_data",
          "data": {
            "image/png": "[encoded data removed]",
            "text/plain": [
              "<Figure size 432x288 with 1 Axes>"
            ]
          },
          "metadata": {
            "needs_background": "light"
          }
        }
      ]
    },
    {
      "cell_type": "markdown",
      "source": [
        "Plot all the methods! Together!!"
      ],
      "metadata": {
        "id": "MgtHdJDt2z5n"
      }
    },
    {
      "cell_type": "code",
      "source": [
        "# a new diff eq so we can see what's different between the methods\n",
        "\n",
        "def f(x, y):\n",
        "  dydx = -2 * x / y\n",
        "\n",
        "  return dydx"
      ],
      "metadata": {
        "id": "Z0Nlk7jO27Lw"
      },
      "execution_count": 153,
      "outputs": []
    },
    {
      "cell_type": "code",
      "source": [
        "# have to rerun the actual iteration so we can \n",
        "# save all the info from all the methods\n",
        "\n",
        "startX, startY = 1.0, 1.0\n",
        "\n",
        "endX = 10.0\n",
        "steps = 100\n",
        "step = (endX - startX) / steps\n",
        "\n",
        "xPoints = [[startX] for i in range(3)]\n",
        "yPoints = [[startY] for i in range(3)]\n",
        "\n",
        "methods = [\"euler\", \"improved euler\", \"runge-kutta\"]\n",
        "\n",
        "for method in range(len(methods)):\n",
        "  x, y = startX, startY\n",
        "\n",
        "  for i in range(steps + 1):\n",
        "    try:\n",
        "      y, x = iter(x, y, step, methods[method]), x + step\n",
        "    except TypeError:\n",
        "      break\n",
        "    xPoints[method].append(x)\n",
        "    yPoints[method].append(y)\n",
        "\n",
        "print(x, y)\n",
        "endX, endY = x, y"
      ],
      "metadata": {
        "colab": {
          "base_uri": "https://localhost:8080/"
        },
        "id": "g3FoPjlI0zPl",
        "outputId": "652a74d1-2957-4b1d-d814-a30a2fb4a09f"
      },
      "execution_count": 154,
      "outputs": [
        {
          "output_type": "stream",
          "name": "stdout",
          "text": [
            "10.08999999999999 -2.4566681931501124\n"
          ]
        }
      ]
    },
    {
      "cell_type": "code",
      "source": [
        "# plot them all together (w/ a slope field!!)\n",
        "\n",
        "fig, ax = plt.subplots()\n",
        "\n",
        "for method in range(len(methods)):\n",
        "  ax.plot(xPoints[method], yPoints[method], label=methods[method])\n",
        "\n",
        "ax.set_xlabel('x-axis')\n",
        "ax.set_ylabel('y-axis')\n",
        "ax.set_title('F(x)')\n",
        "\n",
        "ax.axvline(x=startX, c=\"red\", label=\"x_0\")\n",
        "ax.axhline(y=startY, c=\"red\", label=\"y_0\")\n",
        "\n",
        "ax.axvline(x=endX, c=\"green\", label=\"x_f\")\n",
        "ax.axhline(y=endY, c=\"green\", label=\"y_f\")\n",
        "ax.scatter([startX, endX], [startY, endY], c=\"blue\")\n",
        "\n",
        "print(\"x_0 = %f \\ny_0 = %f\" % (startX, startY))\n",
        "print(\"x_f = %f \\ny_f = %f\" % (endX, endY))\n",
        "\n",
        "\n",
        "sf_stepsX = 10\n",
        "rangeX = endX - startX\n",
        "sf_stepX = rangeX / sf_stepsX\n",
        "\n",
        "minY = yPoints[0][0]\n",
        "for method in yPoints:\n",
        "  for yCoord in method:\n",
        "    if yCoord < minY:\n",
        "      minY = yCoord\n",
        "\n",
        "maxY = yPoints[0][0]\n",
        "for method in yPoints:\n",
        "  for yCoord in method:\n",
        "    if yCoord > maxY:\n",
        "      maxY = yCoord\n",
        "\n",
        "sf_stepsY = 10\n",
        "rangeY = maxY - minY\n",
        "sf_stepY = rangeY / sf_stepsY\n",
        "\n",
        "l = 0.02\n",
        "\n",
        "for i in range(0, sf_stepsX + 1, 1):\n",
        "  for j in range(0, sf_stepsY + 1, 1):\n",
        "    x, y = startX + (i * sf_stepX), minY + (j * sf_stepY)\n",
        "    m = f(x, y)\n",
        "    if m is None:\n",
        "      continue\n",
        "    n = l / (math.sqrt(1/(endX**2) + (m**2)/(maxY**2)))\n",
        "    line = ([x, x + n], [y, y + m*n])\n",
        "    ax.plot(line[0], line[1], color='blue', linewidth=1)\n",
        "  \n",
        "# comment out this line if the legend is covering too much\n",
        "ax.legend()"
      ],
      "metadata": {
        "colab": {
          "base_uri": "https://localhost:8080/",
          "height": 382
        },
        "id": "PEmT1yqc1h6y",
        "outputId": "9d4c63a8-e1d1-4e28-e3b5-26cad119acaf"
      },
      "execution_count": 155,
      "outputs": [
        {
          "output_type": "stream",
          "name": "stdout",
          "text": [
            "x_0 = 1.000000 \n",
            "y_0 = 1.000000\n",
            "x_f = 10.090000 \n",
            "y_f = -2.456668\n"
          ]
        },
        {
          "output_type": "execute_result",
          "data": {
            "text/plain": [
              "<matplotlib.legend.Legend at 0x7f80b17fa2d0>"
            ]
          },
          "metadata": {},
          "execution_count": 155
        },
        {
          "output_type": "display_data",
          "data": {
            "image/png": "[encoded data removed]",
            "text/plain": [
              "<Figure size 432x288 with 1 Axes>"
            ]
          },
          "metadata": {
            "needs_background": "light"
          }
        }
      ]
    }
  ]
}